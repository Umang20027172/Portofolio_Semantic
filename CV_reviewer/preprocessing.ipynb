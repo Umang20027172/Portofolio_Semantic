{
 "cells": [
  {
   "cell_type": "code",
   "execution_count": 2,
   "metadata": {},
   "outputs": [
    {
     "data": {
      "text/plain": [
       "True"
      ]
     },
     "execution_count": 2,
     "metadata": {},
     "output_type": "execute_result"
    }
   ],
   "source": [
    "import re\n",
    "import language_tool_python  # For grammar and spelling correction\n",
    "import nltk  # For more advanced text processing (optional)\n",
    "from nltk.corpus import stopwords #For stop words removal\n",
    "from nltk.stem import WordNetLemmatizer #For lemmatization\n",
    "\n",
    "nltk.download('words', quiet=True) #download the words corpus\n",
    "nltk.download('wordnet', quiet=True) #download the wordnet corpus\n",
    "nltk.download('stopwords', quiet=True) #download stopwords corpus\n",
    "nltk.download('omw-1.4', quiet=True) #download omw corpus\n",
    "\n"
   ]
  },
  {
   "cell_type": "code",
   "execution_count": 3,
   "metadata": {},
   "outputs": [
    {
     "name": "stdout",
     "output_type": "stream",
     "text": [
      "This example text grammar spelling mistake also extra whitespace stop word like 'the' 'a' also word different case like 'example' 'text'\n",
      "\n",
      "This test sentence repeating word word word\n",
      "This test sentence contraction like can't\n"
     ]
    }
   ],
   "source": [
    "tool = language_tool_python.LanguageTool('en-US')  # Initialize the language tool\n",
    "stop_words = set(stopwords.words('english')) #set of english stopwords\n",
    "lemmatizer = WordNetLemmatizer() #initialize lemmatizer\n",
    "\n",
    "\n",
    "def preprocess_text(text):\n",
    "    \"\"\"Preprocesses text for CV data cleaning.\"\"\"\n",
    "\n",
    "    if not isinstance(text, str): #Check input type\n",
    "        return \"\"\n",
    "\n",
    "    # 1. Lowercasing\n",
    "    text = text.lower()\n",
    "\n",
    "    # 2. Remove special characters and punctuation (except apostrophes)\n",
    "    text = re.sub(r\"[^a-zA-Z0-9\\s']\", \"\", text)  # Keep apostrophes\n",
    "\n",
    "    # 3. Correct grammar and spelling mistakes\n",
    "    matches = tool.check(text)\n",
    "    corrected_text = tool.correct(text)\n",
    "\n",
    "    # 4. Remove extra whitespace\n",
    "    corrected_text = re.sub(r\"\\s+\", \" \", corrected_text).strip()\n",
    "\n",
    "    # 5. Remove Stop words\n",
    "    words = corrected_text.split()\n",
    "    filtered_words = [word for word in words if word not in stop_words]\n",
    "    corrected_text = \" \".join(filtered_words)\n",
    "\n",
    "    # 6. Lemmatization (convert words to base form)\n",
    "    words = corrected_text.split()\n",
    "    lemmatized_words = [lemmatizer.lemmatize(word) for word in words]\n",
    "    corrected_text = \" \".join(lemmatized_words)\n",
    "\n",
    "    return corrected_text\n",
    "\n",
    "\n",
    "# Example usage:\n",
    "text = \"\"\"\n",
    "This is an Examplle text with some Grammer and speling Mistakez.  It also has   extra   whitespace.  And some stop words like 'the' and 'a'. It also has some words in different cases like 'Example' and 'TEXT'.\n",
    "\"\"\"\n",
    "\n",
    "cleaned_text = preprocess_text(text)\n",
    "print(cleaned_text)\n",
    "\n",
    "text2 = 123 # Example of non-string input\n",
    "cleaned_text2 = preprocess_text(text2)\n",
    "print(cleaned_text2) # Output should be empty string\n",
    "\n",
    "\n",
    "text3 = \"This is a test sentence with some repeating words words words.\"\n",
    "cleaned_text3 = preprocess_text(text3)\n",
    "print(cleaned_text3) # Output should be \"test sentence repeating word word word\"\n",
    "\n",
    "text4 = \"This is a test sentence with some contractions like it's and can't.\"\n",
    "cleaned_text4 = preprocess_text(text4)\n",
    "print(cleaned_text4) # Output should be \"test sentence contraction like it's can't\""
   ]
  },
  {
   "cell_type": "code",
   "execution_count": 6,
   "metadata": {},
   "outputs": [
    {
     "name": "stdout",
     "output_type": "stream",
     "text": [
      "Buisness development director summary business development director driven exceed sale goal build long term relationship customer creates positive shopping experience high quality customer care highlight flat English Spanish action oriented result oriented take charge sale customer service professional superior communication skill superb flow skill accomplishment exceptional relationship building lead gaining trust credibility individual group effective team player capable delivering strong business case client action skin set necessary bring close created strategy develop expand existing customer sale resulted 154 increase monthly sale increased sale volume adding 34 new account assigned territory managed portfolio 21 account totaling 145mm sale experience business development director 112012 current company name city state managed 3 franchise KIA Hyundai CDR chryslerdodgejeep ram trained developed sale team engagement customer trained developed sale team CRM usage met weekly monthly gm service director email mail marketing campaign built strong relationship fleet organization developed two-man team handle heat case sale representative 012009 052012 company name city state developed managed five Home Depot account generating 5mm annual revenue built strong relationship Home Depot management associate professional contractor ISD's government agency city municipality multifamily apartment group investor DIY'ERS monitored forecast sufficient inventory level Berlioz product ready demand excelled partnering core business operation significantly increase Berlioz footprint expand market share generated sustainable revenue sale driver award FY 2009 successful executed initiative new product ROL out bear ultra premium plus SP low VOC intent oil base ext wood stain floor coating kill pro x trained developed Home Depot associate excel driving Home Depot Berlioz value increasing sale nonstop hands-on training rookie year award 2010 serviced 2 territory due lack human capitol total 10 account keeping profitable constantly growing ultimate team player award 2011 new home counselor 012006 072007 company name city state sold 28 new home produced 5236000 revenue first six month achieved 97 capture rate in-house lending company sustained high profit margin tactful diplomatic negotiation built strong strategic alliance investor community led multiple revenue stream increased profitability held first-time home buyer workshop build comfort demand minimized sale cancelations meticulous customer qualification realistic expectation see ting new home counselor 102004 012006 company name city state sold 58 new home produced 8700000 revenue used blueprint without model SEL 39 home participated numerous TV commercial mi cast protected profit margin degradation advanced negotiation skill bearer home national marketing award best idea contributing 14 new home sale one day orchestrated community outreach program create demand move ups first-time buyer achieved lowest cancelation rate Dallas division built loyal relationship large diverse realtor base developed strong relationship large portion investment community completed requirement bearer university numerous sale contest new business development sale manager 111992 072004 company name city state achieved 154 FY 2000 sale quota implemented weekly training sale team achieved 125 1999 YTD sale quota managed 21 wholesale distributed account increased territory sale 14 q2 q3 1998 preserved margin selling average four percentage point industry standard broadened market base identifying new opportunity expand focus wholesaler tracked customer acquisition cost versus profitability created negotiated contract agreement proposal purchase education superstar selling Brian Tracy ft worth Texas 2005 build complete sale person Plano Texas 2005 sale success JE Frey Gilmer ft worth Texas 2005 care psychology 2011 peer city state USA psychology sale Brian Tracy sale marketing 2005 bearer university city state USA CFI theology 2003 care city state USA associate art theology 2003 CFI city state USA skill sale marketing strategy execution account management business development client relation cold ceiling computer-literate creative problem-solving CRM system customer need assessment customer satisfaction customer service lead development marketing\n"
     ]
    }
   ],
   "source": [
    "text = '''Buisness DEVELOPMENT DIRECTOR\n",
    " Summary\n",
    " Business Development Director driven to exceed sales goals and build long-term relationships with customers. Creates a positive shopping\n",
    " experience through high-quality customer care.\n",
    " Highlights\n",
    " Flut in English and Spanish\n",
    " Action-oriented, results-oriented, \"take charge\" Sales and\n",
    " Customer Service Professional\n",
    " Superior communication skils\n",
    " Superb folow up skils\n",
    " Accomplishments\n",
    " Exceptional relationship building that leads to gaining the trust and\n",
    " credibility of individuals and groups\n",
    " Efective team player\n",
    " Capable of delivering a strong business case for client action with the\n",
    " skil set necessary to bring it to close\n",
    " Created strategies to develop and expand existing customer sales, which resulted in a 154% increase in monthly sales.\n",
    " Increased sales volume by adding 34 new accounts in the assigned territory.\n",
    " Managed a portfolio of 21 accounts totaling $14.5MM in sales.\n",
    " Experience\n",
    " Business Development Director 11/2012 to Current Company Name City , State\n",
    " Managed 3 Franchise , Kia , Hyundai , CDJR ( Chrysler,Dodge,Jeep & Ram )\n",
    " Trained/Developed Sales Team on engagement w/customers Trained/Developed Sales Team on CRM usage\n",
    " Met Weekly/Monthly with GM and Service Director for any emails and mail out Marketing campaigns\n",
    " Built Strong Relationships with Fleet Organizations\n",
    " Developed a two man team that handles al heat cases\n",
    " Sales Representative 01/2009 to 05/2012 Company Name City , State\n",
    " Developed and managed five Home Depot accounts, generating over $5MM in annual revenue\n",
    " Built strong relationships with Home Depot Management, Associates, Professional Contractors, ISD's, Government Agencies, Cities,\n",
    " Municipalities, Multi - Family Apartment Groups, Investors, and DIY'ers\n",
    " Monitored and forecast suficient inventory levels of Behr/Kilz product ready for demand\n",
    " Exceled at partnering with al core business operations to significantly increase Behr/Kilz footprint, expand market share, and generated\n",
    " sustainable revenue\n",
    " Won the Sales Driver Award, FY 2009\n",
    " Successfuly executed al initiatives and new product rol outs, Behr Ultra, Premium Plus SP Low VOC, Int/Ext Oil Base, Ext Wood Stains,\n",
    " Floor Coatings, and Kilz Pro X\n",
    " Trained and developed Home Depot associates to excel at driving both Home Depot and Behr/Kilz value while increasing sales through\n",
    " non-stop hands on training\n",
    " Won \"Rookie of The Year\" Award, 2010\n",
    " Serviced 2 territories due to lack of human capitol, total of 10 accounts, keeping them profitable & constantly growing\n",
    " Won \"Ultimate Team Player\" Award, 2011\n",
    " New Home Counselor 01/2006 to 07/2007 Company Name City , State\n",
    " Sold 28 new homes and produced $5,236,000 in revenue in first six months\n",
    " Achieved 97% capture rate for in-house lending company\n",
    " Sustained high profit margin through tactful and diplomatic negotiations\n",
    " Built strong strategic aliances with investor community, which led to multiple revenue streams and increased profitability\n",
    " Held first-time home buyer workshops to build comfort and demand\n",
    " Minimized sales cancelations by meticulous customer qualification and realistic expectation se ting\n",
    " New Home Counselor 10/2004 to 01/2006 Company Name City , State\n",
    " Sold 58 new homes and produced $8,700,000 in revenue\n",
    " Used blueprints without a model to sel 39 homes\n",
    " Participated in numerous TV commercials for Mi CasaTV\n",
    " Protected profits from margin degradation through advanced negotiation skils\n",
    " Won Beazer Homes National Marketing Award for best idea contributing to 14 new home sales in one day\n",
    " Orchestrated community outreach programs to create demand for move-ups and first-time buyers\n",
    " Achieved lowest cancelation rate in Dalas Division\n",
    " Built loyal relationships with a large, diverse Realtor base\n",
    " Developed strong relationships with a large portion of the investment community\n",
    "Completed al requirements at Beazer University\n",
    " Won numerous sales contests\n",
    " New Business Development Sales Manager 11/1992 to 07/2004 Company Name City , State\n",
    " Achieved 154% of FY 2000 sales quota\n",
    " Implemented weekly training with sales team\n",
    " Achieved 125% of 1999 YTD sales quota\n",
    " Managed 21 wholesale distributer accounts\n",
    " Increased territory sales by 14% in Q2 and Q3 of 1998\n",
    " Preserved margin by seling at an average of four percentage points above industry standard\n",
    " Broadened market base by identifying new opportunities to expand the focus of wholesalers\n",
    " Tracked customer acquisition cost versus profitability\n",
    " Created and negotiated contracts, agreements, proposals, and purchases\n",
    " Education\n",
    " Superstar Seling, Brian Tracy , Ft. Worth, Texas, 2005 How to Build a Complete Sales Person , Plano, Texas 2005 Sales Success, Je frey\n",
    " Gitmer- Ft. Worth, Texas 2005 CSRE : Psychology 2011 P.E.E.R.S City , State , USA\n",
    " Psychology of Sales, Brian Tracy : Sales and Marketing 2005 Beazer University City , State , USA\n",
    " CFNI : Theology 2003 CSRE City , State , USA\n",
    " Associate of Arts : Theology 2003 CFNI City , State , USA \n",
    "Skils\n",
    " Sales and Marketing Strategy, Execution, Account Management, Business Development, Client Relations, Cold Caling, Computer Literate,\n",
    " Creative Problem Solving, CRM Systems, Customer Needs Assessment, Customer Satisfaction, Customer Service, Lead Development,\n",
    " Marketing'''\n",
    "print(preprocess_text(text))"
   ]
  }
 ],
 "metadata": {
  "kernelspec": {
   "display_name": "venv_sdpr",
   "language": "python",
   "name": "python3"
  },
  "language_info": {
   "codemirror_mode": {
    "name": "ipython",
    "version": 3
   },
   "file_extension": ".py",
   "mimetype": "text/x-python",
   "name": "python",
   "nbconvert_exporter": "python",
   "pygments_lexer": "ipython3",
   "version": "3.10.7"
  }
 },
 "nbformat": 4,
 "nbformat_minor": 2
}
